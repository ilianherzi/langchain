{
 "cells": [
  {
   "cell_type": "code",
   "execution_count": 1,
   "id": "7c74eac7-c31d-4044-9734-4f688fefcb34",
   "metadata": {},
   "outputs": [],
   "source": [
    "%load_ext autoreload\n",
    "%autoreload 2"
   ]
  },
  {
   "cell_type": "code",
   "execution_count": 2,
   "id": "31eeaf0b-9c45-40cc-93e5-23ba9f358051",
   "metadata": {},
   "outputs": [
    {
     "data": {
      "text/plain": [
       "True"
      ]
     },
     "execution_count": 2,
     "metadata": {},
     "output_type": "execute_result"
    }
   ],
   "source": [
    "import os\n",
    "from dotenv import load_dotenv\n",
    "\n",
    "# Load the .env file\n",
    "load_dotenv()"
   ]
  },
  {
   "cell_type": "code",
   "execution_count": 3,
   "id": "fd8e29df-4fca-40db-97cd-1977c8a43db3",
   "metadata": {},
   "outputs": [
    {
     "name": "stderr",
     "output_type": "stream",
     "text": [
      "/usr/local/anaconda3/envs/selfenv/lib/python3.8/site-packages/pinecone/index.py:4: TqdmExperimentalWarning: Using `tqdm.autonotebook.tqdm` in notebook mode. Use `tqdm.tqdm` instead to force console mode (e.g. in jupyter console)\n",
      "  from tqdm.autonotebook import tqdm\n"
     ]
    }
   ],
   "source": [
    "from memory import *"
   ]
  },
  {
   "cell_type": "code",
   "execution_count": 4,
   "id": "cabaa29d-d546-4c4e-841d-8418f3f46ad3",
   "metadata": {},
   "outputs": [],
   "source": [
    "chunk_size: int = 400\n",
    "chunk_overlap: int = 50\n",
    "dimension: int = 1536\n",
    "model_name: str = \"gpt-3.5-turbo\"\n",
    "temperature: float = 0.5"
   ]
  },
  {
   "cell_type": "code",
   "execution_count": 31,
   "id": "8d622bdc-e883-4b29-acd4-e6c4a5bb6fb6",
   "metadata": {},
   "outputs": [],
   "source": [
    "tokenizer = tiktoken.get_encoding(\"cl100k_base\")\n",
    "\n",
    "def find_tokens(tokenizer: Encoding, text: str) -> Tuple[List[int], int]:\n",
    "    tokens: List[int] = tokenizer.encode(text, disallowed_special=())\n",
    "    return tokens, len(tokens)\n",
    "\n",
    "tokenizer = tiktoken.get_encoding(\"cl100k_base\")\n",
    "text_splitter = RecursiveCharacterTextSplitter(\n",
    "    chunk_size=chunk_size,\n",
    "    chunk_overlap=chunk_overlap,\n",
    "    length_function=lambda text: find_tokens(tokenizer, text)[1],\n",
    "    separators=SEPERATORS,\n",
    ")\n",
    "embedder = OpenAIEmbeddings(\n",
    "    model=EMBEDDING_MODEL,\n",
    "    openai_api_key=OPENAI_API_KEY,\n",
    "    show_progress_bar=True,\n",
    ")\n",
    "(\n",
    "    _db_vector_store,\n",
    "    db_search_tool,\n",
    "    db_store_tool,\n",
    ") = pinecone_tool(\n",
    "    index=PINECONE_INDEX_NAME,\n",
    "    text_splitter=text_splitter,\n",
    "    embedder=embedder,\n",
    "    dimension=dimension,\n",
    ")\n",
    "\n",
    "# NOTE: that this model and agent is not syncronous\n",
    "# despite setting streamign to true\n",
    "open_ai_llm = ChatOpenAI(\n",
    "    openai_api_key=OPENAI_API_KEY,\n",
    "    model_name=model_name,\n",
    "    temperature=temperature,\n",
    "    streaming=True,\n",
    "    callbacks=[FinalStreamingStdOutCallbackHandler(answer_prefix_tokens=['output'])],\n",
    ")\n",
    "\n",
    "search_tool = search_api_tool()\n",
    "other_tools = load_tools([\"wikipedia\"])\n",
    "tools = [\n",
    "    db_search_tool,\n",
    "    db_store_tool,\n",
    "    search_tool,\n",
    "    *other_tools,\n",
    "]\n",
    "convo_openai_agent = create_conversational_retrieval_agent(\n",
    "    llm=open_ai_llm,\n",
    "    tools=tools,\n",
    "    verbose=False,\n",
    ")"
   ]
  },
  {
   "cell_type": "code",
   "execution_count": 27,
   "id": "5a22956f-5dfe-4649-986b-52e0e3aac628",
   "metadata": {},
   "outputs": [
    {
     "data": {
      "text/plain": [
       "{'input': 'Create a 5 page story of an octopus and a girraffe falling in love',\n",
       " 'chat_history': [HumanMessage(content='Create a 5 page story of an octopus and a girraffe falling in love', additional_kwargs={}, example=False),\n",
       "  AIMessage(content=\"Once upon a time, in a deep blue ocean, there lived a curious octopus named Oliver. Oliver loved exploring the vast underwater world and meeting new creatures. One day, while swimming near the surface, he spotted a beautiful giraffe named Grace, who had wandered too far from her home on the savannah.\\n\\nIntrigued by Grace's long neck and graceful movements, Oliver couldn't help but be drawn to her. He mustered up the courage to approach her and struck up a conversation. They quickly discovered that despite their differences, they shared a love for adventure and a curiosity about the world.\\n\\nAs their friendship grew, Oliver and Grace spent their days exploring the ocean depths and the land above. They discovered hidden treasures in sunken ships, chased colorful fish, and even climbed trees together. Their unique bond brought joy to both their lives.\\n\\nHowever, their love faced challenges. Oliver couldn't stay out of the water for too long, and Grace couldn't survive underwater. They realized that their worlds were too different for them to be together all the time. Despite this, they refused to let their differences tear them apart.\\n\\nOliver and Grace made a promise to each other. They would cherish the time they had together, no matter how fleeting. They would make the most of every moment, creating memories that would last a lifetime.\\n\\nTheir story became legendary among the creatures of the ocean and the animals of the land. Oliver and Grace taught everyone that love knows no boundaries and that true love can overcome any obstacle.\\n\\nAnd so, as the sun set on their final day together, Oliver and Grace shared one last embrace. They knew that their love would live on in their hearts forever. And as they said their goodbyes, they were grateful for the magical love they had found in each other.\\n\\nThough their time together was short, the love between the octopus and the giraffe would forever be remembered as a testament to the power of love and the beauty of embracing our differences.\\n\\nThe end.\", additional_kwargs={}, example=False)],\n",
       " 'output': \"Once upon a time, in a deep blue ocean, there lived a curious octopus named Oliver. Oliver loved exploring the vast underwater world and meeting new creatures. One day, while swimming near the surface, he spotted a beautiful giraffe named Grace, who had wandered too far from her home on the savannah.\\n\\nIntrigued by Grace's long neck and graceful movements, Oliver couldn't help but be drawn to her. He mustered up the courage to approach her and struck up a conversation. They quickly discovered that despite their differences, they shared a love for adventure and a curiosity about the world.\\n\\nAs their friendship grew, Oliver and Grace spent their days exploring the ocean depths and the land above. They discovered hidden treasures in sunken ships, chased colorful fish, and even climbed trees together. Their unique bond brought joy to both their lives.\\n\\nHowever, their love faced challenges. Oliver couldn't stay out of the water for too long, and Grace couldn't survive underwater. They realized that their worlds were too different for them to be together all the time. Despite this, they refused to let their differences tear them apart.\\n\\nOliver and Grace made a promise to each other. They would cherish the time they had together, no matter how fleeting. They would make the most of every moment, creating memories that would last a lifetime.\\n\\nTheir story became legendary among the creatures of the ocean and the animals of the land. Oliver and Grace taught everyone that love knows no boundaries and that true love can overcome any obstacle.\\n\\nAnd so, as the sun set on their final day together, Oliver and Grace shared one last embrace. They knew that their love would live on in their hearts forever. And as they said their goodbyes, they were grateful for the magical love they had found in each other.\\n\\nThough their time together was short, the love between the octopus and the giraffe would forever be remembered as a testament to the power of love and the beauty of embracing our differences.\\n\\nThe end.\",\n",
       " 'intermediate_steps': []}"
      ]
     },
     "execution_count": 27,
     "metadata": {},
     "output_type": "execute_result"
    }
   ],
   "source": [
    "convo_openai_agent({\"input\": \"Create a 5 page story of an octopus and a giraffe falling in love\"})"
   ]
  },
  {
   "cell_type": "code",
   "execution_count": 32,
   "id": "4956c6a6-f406-4dd7-8f40-0dbb904cb246",
   "metadata": {},
   "outputs": [
    {
     "data": {
      "text/plain": [
       "{'input': 'Create a 2 sentence story of an octopus and a girraffe falling in love',\n",
       " 'chat_history': [HumanMessage(content='Create a 2 sentence story of an octopus and a girraffe falling in love', additional_kwargs={}, example=False),\n",
       "  AIMessage(content='In a whimsical underwater world, an adventurous octopus and a graceful giraffe met by chance and their hearts entwined. Despite their differences in habitat, their love transcended boundaries, inspiring a magical dance of love that captivated the entire animal kingdom.', additional_kwargs={}, example=False)],\n",
       " 'output': 'In a whimsical underwater world, an adventurous octopus and a graceful giraffe met by chance and their hearts entwined. Despite their differences in habitat, their love transcended boundaries, inspiring a magical dance of love that captivated the entire animal kingdom.',\n",
       " 'intermediate_steps': []}"
      ]
     },
     "execution_count": 32,
     "metadata": {},
     "output_type": "execute_result"
    }
   ],
   "source": [
    "convo_openai_agent({\"input\": \"Create a 2 sentence story of an octopus and a girraffe falling in love\"})"
   ]
  },
  {
   "cell_type": "code",
   "execution_count": null,
   "id": "8322112e-5412-45bf-a11b-1bf2e289beab",
   "metadata": {},
   "outputs": [],
   "source": []
  }
 ],
 "metadata": {
  "kernelspec": {
   "display_name": "Python 3 (ipykernel)",
   "language": "python",
   "name": "python3"
  },
  "language_info": {
   "codemirror_mode": {
    "name": "ipython",
    "version": 3
   },
   "file_extension": ".py",
   "mimetype": "text/x-python",
   "name": "python",
   "nbconvert_exporter": "python",
   "pygments_lexer": "ipython3",
   "version": "3.8.18"
  }
 },
 "nbformat": 4,
 "nbformat_minor": 5
}
